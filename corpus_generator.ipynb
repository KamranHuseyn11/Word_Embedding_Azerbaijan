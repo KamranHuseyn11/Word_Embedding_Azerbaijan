{
 "cells": [
  {
   "cell_type": "markdown",
   "metadata": {},
   "source": [
    "INFO \n",
    "\n",
    "------------------------------------------------------------------------------\n",
    "This is a script for generating corpus from several txt files and filtering\n",
    "\n",
    "----------------------------------------------------------------------\n",
    "\n",
    "\n",
    "Note that you might need to change filtering options depending on your data since this script \n",
    "was originally written for data in the Azerbaijani language\n",
    "\n",
    "-------------------------------------------------------------------------------------------\n",
    "\n",
    "simplest way to change filtering is to switch next regex with characters in your alphabet (and optionally few more puntuations or numbers) \n",
    "in following line. It will erase any other character that is not mentioned in regex.  \n",
    "text =re.sub(\"[^qüertyuiopöğasdfghjklıəzxcvbnmçşi. \\.]\",\"\",text)\n",
    "\n",
    "----------------------------------------------------------------------------------------\n"
   ]
  },
  {
   "cell_type": "code",
   "execution_count": 1,
   "metadata": {},
   "outputs": [],
   "source": [
    "import re, string, os\n",
    "files = []"
   ]
  },
  {
   "cell_type": "code",
   "execution_count": 3,
   "metadata": {},
   "outputs": [],
   "source": [
    "# every txt file within directory one by one, filters them and appends them to the <files> list\n",
    "\n",
    "for file in os.listdir(_directory_name_):\n",
    "    if file.endswith('.txt'):\n",
    "        text = (open(\"raw/\" + i, encoding =\"utf-8\")).read()\n",
    "        text = text.replace(u'\\xa0', u'').replace(u'\\n', u' ').replace(\"Ģ\",\"ş\").replace(\"Ġ\",\"i\").replace(\",\",\" \").replace(\":\",\" \").lower()\n",
    "        text = text.replace(u'...', u'.').replace(u'...', u'.').replace(u'..', u'.').replace(u\".\", u\" . \")\n",
    "        text =re.sub(\"[^qüertyuiopöğasdfghjklıəzxcvbnmçşi. \\.]\",\"\",text)\n",
    "        files.append(text)\n",
    "        "
   ]
  },
  {
   "cell_type": "code",
   "execution_count": 4,
   "metadata": {},
   "outputs": [],
   "source": [
    "for i in os.listdir(\"filter\"):\n",
    "    if i.endswith('.txt'):\n",
    "        a = (open(\"filter/\" + i, encoding =\"utf-8\")).read()\n",
    "        a = a.replace(u'\\xa0', u'').replace(u'\\n', u'. ').replace(\"Ģ\",\"ş\").replace(\"Ġ\",\"i\").replace(\",\",\" \").replace(\":\",\" \").lower()\n",
    "        a = a.replace(u'...', u'.').replace(u'...', u'.').replace(u'..', u'.').replace(u\".\", u\" . \")\n",
    "        a =re.sub(\"[^qüertyuiopöğasdfghjklıəzxcvbnmçşi. \\.]\",\"\",a)\n",
    "        files.append(a)"
   ]
  },
  {
   "cell_type": "code",
   "execution_count": 11,
   "metadata": {},
   "outputs": [],
   "source": [
    "# sample for filtering one file instead of whole directory\n",
    "a = (open(_your_file_, encoding =\"utf-8\")).read()\n",
    "a = a.replace(u'\\xa0', u'').replace(u'\\n', u'. ').replace(\"Ģ\",\"ş\").replace(\"Ġ\",\"i\").replace(\",\",\" \").replace(\":\",\" \").lower()\n",
    "a = a.replace(u'...', u'.').replace(u'...', u'.').replace(u'..', u'.').replace(u\".\", u\" . \")\n",
    "a =re.sub(\"[^qüertyuiopöğasdfghjklıəzxcvbnmçşi. \\.]\",\"\",a)\n",
    "files.append(a)"
   ]
  },
  {
   "cell_type": "code",
   "execution_count": 12,
   "metadata": {},
   "outputs": [],
   "source": [
    "#merging all filtered texts into one corpus\n",
    "corpus = ' '.join(files)"
   ]
  },
  {
   "cell_type": "code",
   "execution_count": 13,
   "metadata": {},
   "outputs": [
    {
     "data": {
      "text/plain": [
       "450800306"
      ]
     },
     "execution_count": 13,
     "metadata": {},
     "output_type": "execute_result"
    }
   ],
   "source": [
    "# creating file to upload corpus \n",
    "\n",
    "file = open(\"corpus.txt\",\"w\",encoding = \"utf-8\")\n",
    "file.write(corpus)\n",
    "file.close()\n"
   ]
  },
  {
   "cell_type": "code",
   "execution_count": null,
   "metadata": {},
   "outputs": [],
   "source": []
  }
 ],
 "metadata": {
  "kernelspec": {
   "display_name": "Python 3",
   "language": "python",
   "name": "python3"
  },
  "language_info": {
   "codemirror_mode": {
    "name": "ipython",
    "version": 3
   },
   "file_extension": ".py",
   "mimetype": "text/x-python",
   "name": "python",
   "nbconvert_exporter": "python",
   "pygments_lexer": "ipython3",
   "version": "3.7.4"
  }
 },
 "nbformat": 4,
 "nbformat_minor": 4
}
